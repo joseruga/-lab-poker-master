{
 "cells": [
  {
   "cell_type": "markdown",
   "metadata": {},
   "source": [
    "# Game of the Chance\n",
    "\n",
    "In the lesson we have shown you how to use Python to calculate the probabilities and odds of the *royal flush* and *straight flush* in poker. In this lab you will calculate the probabilities of all other hands. Please be reminded that in the lesson there is a Poker Hands Probability Table you can refer to when you write Python code to calculate the probabilities."
   ]
  },
  {
   "cell_type": "markdown",
   "metadata": {},
   "source": [
    "## Challenge 1: *four of a kind*, *full house*, *flush*, and *straight*\n",
    "\n",
    "In the cell below, calculate the probability of getting each of the following hands:\n",
    "\n",
    "* *four of a kind*\n",
    "* *full house*\n",
    "* *flush*\n",
    "* *straight*\n",
    "\n",
    "Assign your results to these variables: `four_of_a_kind`, `full_house`, `flush`, and `straight`. Then print them out to check if they are consistent with the probabilities as shown in the table."
   ]
  },
  {
   "cell_type": "markdown",
   "metadata": {},
   "source": [
    "# Espacio muestral de las cartas\n",
    "\n",
    "Tenemos 52 cartas que van del As al Rey en cuatro figuras diferentes que son:\n",
    "\n",
    "- Corazones\n",
    "- Diamantes\n",
    "- Picas\n",
    "- Treboles\n",
    "\n",
    "![image.png](data:image/png;base64,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)\n"
   ]
  },
  {
   "cell_type": "code",
   "execution_count": 1,
   "metadata": {},
   "outputs": [],
   "source": [
    "from scipy.special import perm, comb"
   ]
  },
  {
   "cell_type": "code",
   "execution_count": 62,
   "metadata": {},
   "outputs": [
    {
     "name": "stdout",
     "output_type": "stream",
     "text": [
      "Probabilidad de obtener four of a kind es 0.024%\n"
     ]
    }
   ],
   "source": [
    "# your code here\n",
    "nums = 13\n",
    "\n",
    "four_of_a_kind = ((nums * 48) / comb(52,5))\n",
    "\n",
    "print(f'Probabilidad de obtener four of a kind es {round(four_of_a_kind*100,4)}%')"
   ]
  },
  {
   "cell_type": "code",
   "execution_count": 63,
   "metadata": {},
   "outputs": [
    {
     "name": "stdout",
     "output_type": "stream",
     "text": [
      "Probabilidad de obtener full house 0.1441%\n"
     ]
    }
   ],
   "source": [
    "# Calculamos todas las combinaciones d tercia\n",
    "tercia = comb(4,3)\n",
    "\n",
    "# Calculamos todas las combinaciones d par\n",
    "par = comb(4,2)\n",
    "\n",
    "# Multiplicamos por todos los posibles numeros y luego por los posibles numeros menos uno\n",
    "full_house = (tercia*13*par*12)/comb(52,5)\n",
    "\n",
    "print(f'Probabilidad de obtener full house {round(full_house*100,4)}%')"
   ]
  },
  {
   "cell_type": "code",
   "execution_count": 64,
   "metadata": {},
   "outputs": [
    {
     "name": "stdout",
     "output_type": "stream",
     "text": [
      "Probabilidad de obtener FLUSH es: 0.1965%\n"
     ]
    }
   ],
   "source": [
    "# Calculas todas las combinaciones en que puedes obtener 5 cartas del mismo palo\n",
    "misma_figura = comb(13,5)\n",
    "\n",
    "# De todas las combinaciones, restas las q son straight flush(36) y royal flush(4) y \n",
    "# lo divides entre todas las combinaciones posibles\n",
    "\n",
    "flush = (misma_figura * comb(4,1)-comb(4,1)-(comb(9,1)*comb(4,1))) / (comb(52,5)) \n",
    "#multiplicamos por 100 para tenerlo en porcentaje \n",
    "\n",
    "print(f\"Probabilidad de obtener FLUSH es: {round(flush*100,4)}%\")"
   ]
  },
  {
   "cell_type": "code",
   "execution_count": 65,
   "metadata": {},
   "outputs": [
    {
     "name": "stdout",
     "output_type": "stream",
     "text": [
      "Probabilidad de obtener straight es: 0.3925%\n"
     ]
    }
   ],
   "source": [
    "# Hay 10 maneras de obtener un straight y se multiplica cinco veces (por cada carta) por 4 (por los cuatro palos) \n",
    "# Finalmente se restan 4 royal flush y 36 straight flush y se divide entre todas las posibles combinaciones \n",
    "straight = (((10*4*4*4*4*4)-(40))/(comb(52,5)))\n",
    "\n",
    "print(f\"Probabilidad de obtener straight es: {round(straight*100,4)}%\")"
   ]
  },
  {
   "cell_type": "markdown",
   "metadata": {},
   "source": [
    "## Challenge 2: *three of a kind*, *two pair*, *one pair*, and *no pair*\n",
    "\n",
    "In the cell below, calculate the probability of getting each of the following hands:\n",
    "\n",
    "* *three of a kind*\n",
    "* *two pair*\n",
    "* *one pair*\n",
    "* *no pair*\n",
    "\n",
    "You need to figure out the math formulas by yourself. Check if your calculated probabilities are the same as shown in the table. Then assign your results to these variables: `three_of_a_kind`, `two_pair`, `one_pair`, and `no_pair`.\n",
    "\n",
    "*If you are really stuck and frustrated you may scroll down to the section called \"Show your probabilities in table\" where we give you all the math formulas. But try not to look at them unless you've lost half of your hair* 😏"
   ]
  },
  {
   "cell_type": "code",
   "execution_count": 70,
   "metadata": {},
   "outputs": [
    {
     "name": "stdout",
     "output_type": "stream",
     "text": [
      "Probabilidad de obtener una tercia es: 2.1128%\n"
     ]
    }
   ],
   "source": [
    "# your code here\n",
    "three_of_a_kind = (((comb(4,3)*13*comb(12,2)*4*4))/comb(52,5))\n",
    "\n",
    "print(f\"Probabilidad de obtener una tercia es: {round(three_of_a_kind*100,4)}%\")"
   ]
  },
  {
   "cell_type": "code",
   "execution_count": 74,
   "metadata": {},
   "outputs": [
    {
     "name": "stdout",
     "output_type": "stream",
     "text": [
      "Probabilidad de obtener un par es: 4.7539%\n"
     ]
    }
   ],
   "source": [
    "two_pair = comb(4,2)*comb(4,2)*comb(13,2)*comb(11,1)*4/comb(52,5)\n",
    "\n",
    "print(f\"Probabilidad de obtener un par es: {round(two_pair*100,4)}%\")"
   ]
  },
  {
   "cell_type": "code",
   "execution_count": 71,
   "metadata": {},
   "outputs": [
    {
     "name": "stdout",
     "output_type": "stream",
     "text": [
      "Probabilidad de obtener un par es: 42.2569%\n"
     ]
    }
   ],
   "source": [
    "one_pair = comb(4,2)*13*comb(12,3)*4*4*4/comb(52,5)\n",
    "\n",
    "print(f\"Probabilidad de obtener un par es: {round(one_pair*100,4)}%\")"
   ]
  },
  {
   "cell_type": "code",
   "execution_count": 75,
   "metadata": {},
   "outputs": [
    {
     "name": "stdout",
     "output_type": "stream",
     "text": [
      "Probabilidad de no obtener ni un par es: 50.1177%\n"
     ]
    }
   ],
   "source": [
    "no_pair = (comb(13,5)-10)*(4**5-4)/comb(52,5)\n",
    "\n",
    "print(f\"Probabilidad de no obtener ni un par es: {round(no_pair*100,4)}%\")"
   ]
  },
  {
   "cell_type": "markdown",
   "metadata": {},
   "source": [
    "### Show your probabilities in table\n",
    "\n",
    "Execute the following cell to display the probabilities you calculated.\n",
    "\n",
    "The code sample below also shows you:\n",
    "\n",
    "* How to format a float number as percentage.\n",
    "\n",
    "* How to print a HTML table in Jupyter Notebook to display the values in a Python dictionary.\n",
    "\n",
    "It's useful to understand how the code sample works."
   ]
  },
  {
   "cell_type": "code",
   "execution_count": 68,
   "metadata": {},
   "outputs": [
    {
     "data": {
      "text/html": [
       "<table style=\"width:100%;\"><tr><th>Cards</th><th>Hand</th><th>Probability</th><th>Math Expression</th></tr><tr><td><img src=\"royal-flush.jpeg\" style=\"float:right;\" /></td><td>royal flush</td><td>0.000154%</td><td><img src=\"royal-flush.svg\" style=\"float:right;\" /></td></tr><tr><td><img src=\"straight-flush.jpeg\" style=\"float:right;\" /></td><td>straight flush</td><td>0.001385%</td><td><img src=\"straight-flush.svg\" style=\"float:right;\" /></td></tr><tr><td><img src=\"four-of-kind.jpeg\" style=\"float:right;\" /></td><td>four of a kind</td><td>0.024010%</td><td><img src=\"four-of-kind.svg\" style=\"float:right;\" /></td></tr><tr><td><img src=\"full-house.jpeg\" style=\"float:right;\" /></td><td>full house</td><td>0.144058%</td><td><img src=\"full-house.svg\" style=\"float:right;\" /></td></tr><tr><td><img src=\"flush.jpeg\" style=\"float:right;\" /></td><td>flush</td><td>0.196540%</td><td><img src=\"flush.svg\" style=\"float:right;\" /></td></tr><tr><td><img src=\"straight.jpeg\" style=\"float:right;\" /></td><td>straight</td><td>0.392465%</td><td><img src=\"straight.svg\" style=\"float:right;\" /></td></tr><tr><td><img src=\"three-of-kind.jpeg\" style=\"float:right;\" /></td><td>three of a kind</td><td>2.112845%</td><td><img src=\"three-of-kind.svg\" style=\"float:right;\" /></td></tr><tr><td><img src=\"two-pair.jpeg\" style=\"float:right;\" /></td><td>two pair</td><td>-100.000000%</td><td><img src=\"two-pair.svg\" style=\"float:right;\" /></td></tr><tr><td><img src=\"one-pair.jpeg\" style=\"float:right;\" /></td><td>one pair</td><td>-100.000000%</td><td><img src=\"one-pair.svg\" style=\"float:right;\" /></td></tr><tr><td><img src=\"no-pair.jpeg\" style=\"float:right;\" /></td><td>no pair</td><td>-100.000000%</td><td><img src=\"no-pair.svg\" style=\"float:right;\" /></td></tr></table>"
      ],
      "text/plain": [
       "<IPython.core.display.HTML object>"
      ]
     },
     "metadata": {},
     "output_type": "display_data"
    }
   ],
   "source": [
    "from scipy.special import comb\n",
    "from IPython.display import HTML, display\n",
    "\n",
    "probs = {\n",
    "    'royal flush': (4/comb(52, 5), 'royal-flush.jpeg', 'royal-flush.svg'),\n",
    "    'straight flush': ((comb(10,1)*comb(4,1)-comb(4,1))/comb(52, 5), 'straight-flush.jpeg', 'straight-flush.svg'),\n",
    "    'four of a kind': (four_of_a_kind, 'four-of-kind.jpeg', 'four-of-kind.svg'),\n",
    "    'full house': (full_house, 'full-house.jpeg', 'full-house.svg'),\n",
    "    'flush': (flush, 'flush.jpeg', 'flush.svg'),\n",
    "    'straight': (straight, 'straight.jpeg', 'straight.svg'),\n",
    "    'three of a kind': (three_of_a_kind, 'three-of-kind.jpeg', 'three-of-kind.svg'),\n",
    "    'two pair': (two_pair, 'two-pair.jpeg', 'two-pair.svg'),\n",
    "    'one pair': (one_pair, 'one-pair.jpeg', 'one-pair.svg'),\n",
    "    'no pair': (no_pair, 'no-pair.jpeg', 'no-pair.svg'),\n",
    "}\n",
    "\n",
    "def format_prob(prob):\n",
    "    return \"{}%\".format(format(prob*100, '.6f'))\n",
    "\n",
    "def get_image_html(src):\n",
    "    return '<img src=\"{}\" style=\"float:right;\" />'.format(src)\n",
    "\n",
    "display(HTML(\n",
    "   '<table style=\"width:100%;\"><tr><th>Cards</th><th>Hand</th><th>Probability</th><th>Math Expression</th></tr><tr>{}</tr></table>'.format(\n",
    "       '</tr><tr>'.join(\n",
    "           '<td>{}</td>'.format('</td><td>'.join([get_image_html(val[1]), key, format_prob(val[0]), get_image_html(val[2])])) for key, val in probs.items())\n",
    "       )\n",
    "))"
   ]
  },
  {
   "cell_type": "markdown",
   "metadata": {},
   "source": [
    "## Bonus challenge: Using odds in real poker game\n",
    "\n",
    "But understanding how to calculate probabilities and odds does not necessarily make you a poker master. Additional learning is required. As an example, let's explain how to use this skill in [Texas Hold'em](https://www.instructables.com/id/Learn-To-Play-Poker---Texas-Hold-Em-aka-Texas-Ho/) (also see [this video](https://www.youtube.com/watch?v=KKMac6tQKiI)) where you are in the simpliest scenario playing against a single opponent.\n",
    "\n",
    "### Pot odds\n",
    "\n",
    "First, you need to understand what are **pot odds** which represent the odds of risk versus return. Pot odds is **the ratio between the amount of money in the pot versus the amount you need to put down in order to stay in the turn**. For example, if the pot has 10 dollars and your opponent bet 5 dollars, in order to follow you need to to bet 5 dollars. At this time, the pot odds is:\n",
    "\n",
    "```\n",
    "(10 + 5) : 5 = 15 : 5 = 3 : 1\n",
    "```\n",
    "\n",
    "The 3:1 pot odds means for every 1 dollar you bet you can potentially win 3 dollars. If you can win at least once among 3 tries you give, it is worth the risk. So then the question comes to how to calculate your odds to win, which can be achieved by calculating your **outs**."
   ]
  },
  {
   "cell_type": "markdown",
   "metadata": {},
   "source": [
    "### Outs\n",
    "\n",
    "**Outs are the number of cards you need in order to win the hand**. To count the outs you need to take into consideration what cards have been shown on the table (versus those unseen) and what cards you need in order to beat your opponent. For example, consider the following scenario after the turn (i.e. after the dealer lays out the 4th card and before everyone bets for the 3rd round):\n",
    "\n",
    "| Your hand: | ![](hj.png) | ![](h8.png) | . | . | . | . | . | . | . |\n",
    "| --- | --- | --- | --- | --- | --- | --- | --- | --- | --- |\n",
    "| **Dealer lays out:** | ![](h1.png) | ![](hk.png) | ![](c8.png) | ![](s7.png) | . | . | . | . | . |\n",
    "| **Opponent's hand (unknown):** | ![](unknown.png) | ![](unknown.png) | . | . | . | . | . | . | . |\n",
    "| **Cards you need to win (your outs):** | ![](h2.png) | ![](h3.png) | ![](h4.png) | ![](h5.png) |![](h6.png) | ![](h7.png) | ![](h9.png) | ![](h10.png) | ![](hq.png) |\n",
    "\n",
    "To win, you just need the dealer to lay out a heart card as the river card (the 5th & final card) so that you can have a flush. Your flush will beat your opponent for sure. Since there are 9 heart cards that are not shown on the table, you have 9 outs."
   ]
  },
  {
   "cell_type": "markdown",
   "metadata": {},
   "source": [
    "### Use outs to calculate your odds to win\n",
    "\n",
    "Your odds to win is calculated with the following formula:\n",
    "\n",
    "```\n",
    "Odds to Win = Number of Outs : (Number of Unseen Cards - Number of Outs)\n",
    "```\n",
    "\n",
    "In the example above, 6 cards have been shown on the table which means 52-6=46 cards are unseen (including the remaining deck plus the 2 cards in your opponent's hand). And you have 9 outs. Therefore, your odds to win is:\n",
    "\n",
    "```\n",
    "9 : (46 - 9) = 9 : 37\n",
    "```\n",
    "\n",
    "This is approximately 1:4, meaning you're 4 times likely to lose than to win. Your chance to win is thus 20%. Considering the pot odds which is 3:1, it does not worth for you to take the risk to bet. You should fold.\n",
    "\n",
    "Of course in real playing it's 100 times more complex than the scenario we showed you. First, there may be more than one way for you to win. For example, you may eventually have two pairs or a flush, either of which will make you win. In this case you total outs are the sum of the two-pair outs and the flush outs. But make sure you don't double count any of the cards when you count the outs. For instance, you may eventually have a straight flush or a flush, either of which will make you win. In this case you should only count the outs for flush because the outs for straight flush are contained in the outs for flush. \n",
    "\n",
    "Your eventual odds to win is related to on your opponents' odds to win. Unfortunately you can't see what cards your opponents have. The best you can do is to make sure you don't count the outs that will also give your opponents advantage. For example, afer the flop don't expect the dealer to come up with a pair so that you can have a three of a kind or two pairs. Because the dealer's pair will also give your opponent the equal advantage.\n",
    "\n",
    "Statistically speaking, there is only one basic rule: **don't take the risk if the risk won't bring you a higher return of your money**. However, as you get better in playing poker you'll be able to consider human and psychological factors such as your opponents bluffing or you bluffing."
   ]
  },
  {
   "cell_type": "markdown",
   "metadata": {},
   "source": [
    "### The shortcut method\n",
    "\n",
    "If you don't want to burn yourself out by calculating and comparing the pot odds and your odds to win, a shortcut method is **The Rule of 4 and 2**:\n",
    "\n",
    "* **After the flop (after dealer lays the first 3 cards on table), your chance to win is approximately 4 times the number of outs.**\n",
    "\n",
    "* **After the turn (after dealer lays the 4th card on table), your chance to win is approximately 2 times the number of outs.**\n",
    "\n",
    "This rule simplifies your decision making process whether to stay in the hand. In the example we gave you earlier, you have 9 outs after the turn. So your chance to win is `9 x 2 = 18%`. This is identical to the probability we calculated.\n",
    "\n",
    "*Disclaimer: We provide this lesson only for educational purposes. We do not think gambling is good for anyone. Do not gamble.*"
   ]
  },
  {
   "cell_type": "markdown",
   "metadata": {},
   "source": [
    "### Practice\n",
    "\n",
    "In the following scenarios, practice calculating your outs and odds to win. Assume the pot odds are 4:1. Should you fold or follow?\n",
    "\n",
    "![](scenario-1.png)\n",
    "\n",
    "![](scenario-2.png)\n",
    "\n",
    "![](scenario-3.png)"
   ]
  },
  {
   "cell_type": "code",
   "execution_count": null,
   "metadata": {},
   "outputs": [],
   "source": [
    "# your answer here"
   ]
  }
 ],
 "metadata": {
  "kernelspec": {
   "display_name": "Python 3",
   "language": "python",
   "name": "python3"
  },
  "language_info": {
   "codemirror_mode": {
    "name": "ipython",
    "version": 3
   },
   "file_extension": ".py",
   "mimetype": "text/x-python",
   "name": "python",
   "nbconvert_exporter": "python",
   "pygments_lexer": "ipython3",
   "version": "3.8.3"
  }
 },
 "nbformat": 4,
 "nbformat_minor": 2
}
